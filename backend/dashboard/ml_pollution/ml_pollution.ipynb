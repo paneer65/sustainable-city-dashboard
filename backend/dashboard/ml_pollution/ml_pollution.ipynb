{
 "cells": [
  {
   "cell_type": "code",
   "execution_count": 0,
   "metadata": {
    "colab": {
     "base_uri": "https://localhost:8080/",
     "height": 544
    },
    "colab_type": "code",
    "id": "fVnMkk-wSHKT",
    "outputId": "1f569a4d-b1e0-4eb5-bfd8-4f366fb3bd1c"
   },
   "outputs": [
    {
     "name": "stdout",
     "output_type": "stream",
     "text": [
      "    pm25  pm10    o3   no2  so2\n",
      "0   16.0   9.0  25.0  10.0  0.0\n",
      "1   21.0  25.0  11.0  26.0  1.0\n",
      "2   65.0  20.0  20.0  18.0  1.0\n",
      "3   56.0  15.0  25.0   7.0  0.0\n",
      "4   46.0   0.0  30.0   2.0  0.0\n",
      "5   11.0   5.0  28.0   1.0  0.0\n",
      "7   18.0   7.0  27.0   2.0  0.0\n",
      "8   14.0  13.0  27.0   4.0  0.0\n",
      "9   25.0   9.0  20.0  14.0  0.0\n",
      "10  31.0   8.0  29.0   6.0  0.0\n",
      "11  19.0   3.0  30.0   0.0  0.0\n",
      "13  14.0   6.0  28.0   6.0  0.0\n",
      "14  16.0   5.0  29.0   2.0  0.0\n",
      "15  11.0   7.0  29.0   6.0  0.0\n",
      "16  15.0   7.0  24.0   7.0  0.0\n",
      "18  28.0   9.0  22.0  12.0  1.0\n",
      "19  21.0  21.0   7.0  18.0  1.0\n",
      "20  69.0  27.0   1.0  13.0  0.0\n",
      "22  22.0   6.0  26.0   5.0  0.0\n",
      "23  14.0   6.0  29.0   5.0  0.0\n",
      "(740, 5)\n",
      "             pm25        pm10          o3         no2         so2\n",
      "count  740.000000  740.000000  740.000000  740.000000  740.000000\n",
      "mean    32.950000   10.989189   19.789189    7.912162    0.587838\n",
      "std     23.304397    7.805650    7.868602    5.531224    8.477407\n",
      "min      0.000000    0.000000    1.000000    0.000000    0.000000\n",
      "25%     17.000000    6.000000   14.000000    4.000000    0.000000\n",
      "50%     27.000000    9.000000   20.000000    7.000000    0.000000\n",
      "75%     46.000000   14.000000   25.000000   11.000000    0.000000\n",
      "max    185.000000   82.000000   42.000000   31.000000  230.000000\n"
     ]
    }
   ],
   "source": [
    "#!/usr/bin/env python\n",
    "# coding: utf-8\n",
    "import pandas as pd\n",
    "import matplotlib.pyplot as plt\n",
    "from sklearn import preprocessing\n",
    "\n",
    "data=pd.read_csv('poll.csv')\n",
    "data.head()\n",
    "data=data.drop(['date'],axis=1)\n",
    "# print(data.head())\n",
    "data = data.dropna(thresh=3)\n",
    "data = data.fillna(0)\n",
    "print(data.head(20))\n",
    "print(data.shape)\n",
    "print(data.describe())"
   ]
  },
  {
   "cell_type": "code",
   "execution_count": 0,
   "metadata": {
    "colab": {
     "base_uri": "https://localhost:8080/",
     "height": 34
    },
    "colab_type": "code",
    "id": "he-0LyDGVHw-",
    "outputId": "3dd8e456-2070-4948-e2d6-5be8ca8ac02f"
   },
   "outputs": [
    {
     "data": {
      "text/plain": [
       "['pm25', 'pm10', 'o3', 'no2', 'so2']"
      ]
     },
     "execution_count": 12,
     "metadata": {
      "tags": []
     },
     "output_type": "execute_result"
    }
   ],
   "source": []
  },
  {
   "cell_type": "code",
   "execution_count": 0,
   "metadata": {
    "colab": {},
    "colab_type": "code",
    "id": "LRrMkLxVURZi"
   },
   "outputs": [],
   "source": [
    "plt.hist(data['pm25'], color = 'blue', edgecolor = 'black',\n",
    "         bins = int(191/10))\n",
    "data['pm25'].fillna((data['pm25'].mean()), inplace=True)\n",
    "plt.hist(data['pm25'], color = 'blue', edgecolor = 'black',\n",
    "         bins = int(191/10))\n",
    "plt.hist(data['pm10'], color = 'blue', edgecolor = 'black',\n",
    "         bins = int(84/10))\n",
    "data['pm10'].fillna((data['pm10'].mean()), inplace=True)\n",
    "data['o3'].fillna((data['o3'].median()), inplace=True)\n",
    "data['no2'].fillna((data['no2'].median()), inplace=True)\n",
    "data['so2'].fillna((data['so2'].median()), inplace=True)\n",
    "print(data.head(20)\n",
    "data.describe()"
   ]
  },
  {
   "cell_type": "code",
   "execution_count": 0,
   "metadata": {
    "colab": {},
    "colab_type": "code",
    "id": "SNk5oc8fUq-g"
   },
   "outputs": [],
   "source": [
    "data['pollution']= (0.20*data['pm25']+0.20*data['pm10']+0.3*data['o3']+0.1*data['no2']+0.15*data['so2'])/5\n",
    "print(data.head(10))\n",
    "x = data[['pollution']].values.astype(float)\n",
    "min_max_scaler = preprocessing.MinMaxScaler()\n",
    "x_scaled = min_max_scaler.fit_transform(x)\n",
    "df_normalized = pd.DataFrame(x_scaled)\n",
    "df_normalized\n",
    "data['pollution_normalised']=df_normalized\n",
    "data.head()\n",
    "data.describe()\n",
    "plt.hist(data['pollution_normalised'], color = 'blue', edgecolor = 'black',\n",
    "         bins = 10)\n",
    "data.drop(['pm25','pm10','o3','no2','so2','pollution'],axis=1)\n",
    "data.to_csv(r'Desktop\\Normalised Pollution.csv')\n",
    "data[\"latitude\"]=\"\"\n",
    "data['longitude']=\"\"\n",
    "data.head()\n",
    "mod_data=data\n",
    "mod_data.drop(['pm25','pm10','o3','no2','so2','pollution'],axis=1)\n",
    "mod_data.to_csv(r'Desktop\\Normalised Pollution.csv')"
   ]
  },
  {
   "cell_type": "code",
   "execution_count": 0,
   "metadata": {
    "colab": {},
    "colab_type": "code",
    "id": "2j_WaBQqddlS"
   },
   "outputs": [],
   "source": [
    "with open(\"lat.txt\", 'r') as file_handle:\n",
    "    lat = file_handle.readlines()\n",
    "with open(\"long.txt\",'r') as file_handle:\n",
    "  longi = file_handle.readlines()"
   ]
  },
  {
   "cell_type": "code",
   "execution_count": 0,
   "metadata": {
    "colab": {
     "base_uri": "https://localhost:8080/",
     "height": 51
    },
    "colab_type": "code",
    "id": "fDfs2wfufNdL",
    "outputId": "98161ff4-69ad-4e96-b936-c1e8322cd713"
   },
   "outputs": [
    {
     "name": "stdout",
     "output_type": "stream",
     "text": [
      "<class 'list'>\n",
      "<class 'list'>\n"
     ]
    }
   ],
   "source": [
    "print(type(lat))\n",
    "print(type(longi))"
   ]
  },
  {
   "cell_type": "code",
   "execution_count": 0,
   "metadata": {
    "colab": {},
    "colab_type": "code",
    "id": "XLdi247DfOfj"
   },
   "outputs": [],
   "source": [
    "for i in range(len(lat)):\n",
    "  lat[i] = lat[i][:-1]\n",
    "  longi[i] = longi[i][:-1]"
   ]
  },
  {
   "cell_type": "code",
   "execution_count": 0,
   "metadata": {
    "colab": {},
    "colab_type": "code",
    "id": "y3ATM0SLfPdb"
   },
   "outputs": [],
   "source": [
    "lat=pd.Series(lat)\n",
    "longi=pd.Series(longi)\n",
    "coord_dat=pd.concat([lat,longi],axis=1,ignore_index=True)\n",
    "coord_dat.sample(len())"
   ]
  },
  {
   "cell_type": "code",
   "execution_count": 0,
   "metadata": {
    "colab": {
     "base_uri": "https://localhost:8080/",
     "height": 419
    },
    "colab_type": "code",
    "id": "jR_YK7JpjouP",
    "outputId": "ea493f0e-7956-4cd4-b533-b53f015dc418"
   },
   "outputs": [
    {
     "data": {
      "text/html": [
       "<div>\n",
       "<style scoped>\n",
       "    .dataframe tbody tr th:only-of-type {\n",
       "        vertical-align: middle;\n",
       "    }\n",
       "\n",
       "    .dataframe tbody tr th {\n",
       "        vertical-align: top;\n",
       "    }\n",
       "\n",
       "    .dataframe thead th {\n",
       "        text-align: right;\n",
       "    }\n",
       "</style>\n",
       "<table border=\"1\" class=\"dataframe\">\n",
       "  <thead>\n",
       "    <tr style=\"text-align: right;\">\n",
       "      <th></th>\n",
       "      <th>0</th>\n",
       "      <th>1</th>\n",
       "    </tr>\n",
       "  </thead>\n",
       "  <tbody>\n",
       "    <tr>\n",
       "      <th>970</th>\n",
       "      <td>53.38263694</td>\n",
       "      <td>-6.206181111</td>\n",
       "    </tr>\n",
       "    <tr>\n",
       "      <th>1201</th>\n",
       "      <td>53.39742611</td>\n",
       "      <td>-6.306615</td>\n",
       "    </tr>\n",
       "    <tr>\n",
       "      <th>3728</th>\n",
       "      <td>53.28636194</td>\n",
       "      <td>-6.165993889</td>\n",
       "    </tr>\n",
       "    <tr>\n",
       "      <th>744</th>\n",
       "      <td>53.39699611</td>\n",
       "      <td>-6.234923889</td>\n",
       "    </tr>\n",
       "    <tr>\n",
       "      <th>1717</th>\n",
       "      <td>53.34675667</td>\n",
       "      <td>-6.379660278</td>\n",
       "    </tr>\n",
       "    <tr>\n",
       "      <th>...</th>\n",
       "      <td>...</td>\n",
       "      <td>...</td>\n",
       "    </tr>\n",
       "    <tr>\n",
       "      <th>4014</th>\n",
       "      <td>53.39714139</td>\n",
       "      <td>-6.341581111</td>\n",
       "    </tr>\n",
       "    <tr>\n",
       "      <th>2880</th>\n",
       "      <td>53.52341417</td>\n",
       "      <td>-6.091180833</td>\n",
       "    </tr>\n",
       "    <tr>\n",
       "      <th>1180</th>\n",
       "      <td>53.39722111</td>\n",
       "      <td>-6.310738056</td>\n",
       "    </tr>\n",
       "    <tr>\n",
       "      <th>579</th>\n",
       "      <td>53.33851306</td>\n",
       "      <td>-6.255003889</td>\n",
       "    </tr>\n",
       "    <tr>\n",
       "      <th>1590</th>\n",
       "      <td>53.28907694</td>\n",
       "      <td>-6.145040833</td>\n",
       "    </tr>\n",
       "  </tbody>\n",
       "</table>\n",
       "<p>740 rows × 2 columns</p>\n",
       "</div>"
      ],
      "text/plain": [
       "                0             1\n",
       "970   53.38263694  -6.206181111\n",
       "1201  53.39742611     -6.306615\n",
       "3728  53.28636194  -6.165993889\n",
       "744   53.39699611  -6.234923889\n",
       "1717  53.34675667  -6.379660278\n",
       "...           ...           ...\n",
       "4014  53.39714139  -6.341581111\n",
       "2880  53.52341417  -6.091180833\n",
       "1180  53.39722111  -6.310738056\n",
       "579   53.33851306  -6.255003889\n",
       "1590  53.28907694  -6.145040833\n",
       "\n",
       "[740 rows x 2 columns]"
      ]
     },
     "execution_count": 62,
     "metadata": {
      "tags": []
     },
     "output_type": "execute_result"
    }
   ],
   "source": [
    "samples"
   ]
  },
  {
   "cell_type": "code",
   "execution_count": 0,
   "metadata": {
    "colab": {
     "base_uri": "https://localhost:8080/",
     "height": 419
    },
    "colab_type": "code",
    "id": "kC0ZAOgujq0o",
    "outputId": "7db4e878-d4f3-4089-d26a-e5625f483704"
   },
   "outputs": [
    {
     "data": {
      "text/html": [
       "<div>\n",
       "<style scoped>\n",
       "    .dataframe tbody tr th:only-of-type {\n",
       "        vertical-align: middle;\n",
       "    }\n",
       "\n",
       "    .dataframe tbody tr th {\n",
       "        vertical-align: top;\n",
       "    }\n",
       "\n",
       "    .dataframe thead th {\n",
       "        text-align: right;\n",
       "    }\n",
       "</style>\n",
       "<table border=\"1\" class=\"dataframe\">\n",
       "  <thead>\n",
       "    <tr style=\"text-align: right;\">\n",
       "      <th></th>\n",
       "      <th>pm25</th>\n",
       "      <th>pm10</th>\n",
       "      <th>o3</th>\n",
       "      <th>no2</th>\n",
       "      <th>so2</th>\n",
       "    </tr>\n",
       "  </thead>\n",
       "  <tbody>\n",
       "    <tr>\n",
       "      <th>0</th>\n",
       "      <td>16.0</td>\n",
       "      <td>9.0</td>\n",
       "      <td>25.0</td>\n",
       "      <td>10.0</td>\n",
       "      <td>0.0</td>\n",
       "    </tr>\n",
       "    <tr>\n",
       "      <th>1</th>\n",
       "      <td>21.0</td>\n",
       "      <td>25.0</td>\n",
       "      <td>11.0</td>\n",
       "      <td>26.0</td>\n",
       "      <td>1.0</td>\n",
       "    </tr>\n",
       "    <tr>\n",
       "      <th>2</th>\n",
       "      <td>65.0</td>\n",
       "      <td>20.0</td>\n",
       "      <td>20.0</td>\n",
       "      <td>18.0</td>\n",
       "      <td>1.0</td>\n",
       "    </tr>\n",
       "    <tr>\n",
       "      <th>3</th>\n",
       "      <td>56.0</td>\n",
       "      <td>15.0</td>\n",
       "      <td>25.0</td>\n",
       "      <td>7.0</td>\n",
       "      <td>0.0</td>\n",
       "    </tr>\n",
       "    <tr>\n",
       "      <th>4</th>\n",
       "      <td>46.0</td>\n",
       "      <td>0.0</td>\n",
       "      <td>30.0</td>\n",
       "      <td>2.0</td>\n",
       "      <td>0.0</td>\n",
       "    </tr>\n",
       "    <tr>\n",
       "      <th>...</th>\n",
       "      <td>...</td>\n",
       "      <td>...</td>\n",
       "      <td>...</td>\n",
       "      <td>...</td>\n",
       "      <td>...</td>\n",
       "    </tr>\n",
       "    <tr>\n",
       "      <th>791</th>\n",
       "      <td>0.0</td>\n",
       "      <td>0.0</td>\n",
       "      <td>38.0</td>\n",
       "      <td>15.0</td>\n",
       "      <td>1.0</td>\n",
       "    </tr>\n",
       "    <tr>\n",
       "      <th>792</th>\n",
       "      <td>0.0</td>\n",
       "      <td>0.0</td>\n",
       "      <td>22.0</td>\n",
       "      <td>20.0</td>\n",
       "      <td>1.0</td>\n",
       "    </tr>\n",
       "    <tr>\n",
       "      <th>793</th>\n",
       "      <td>0.0</td>\n",
       "      <td>0.0</td>\n",
       "      <td>11.0</td>\n",
       "      <td>20.0</td>\n",
       "      <td>2.0</td>\n",
       "    </tr>\n",
       "    <tr>\n",
       "      <th>794</th>\n",
       "      <td>0.0</td>\n",
       "      <td>0.0</td>\n",
       "      <td>27.0</td>\n",
       "      <td>14.0</td>\n",
       "      <td>1.0</td>\n",
       "    </tr>\n",
       "    <tr>\n",
       "      <th>795</th>\n",
       "      <td>0.0</td>\n",
       "      <td>0.0</td>\n",
       "      <td>22.0</td>\n",
       "      <td>9.0</td>\n",
       "      <td>1.0</td>\n",
       "    </tr>\n",
       "  </tbody>\n",
       "</table>\n",
       "<p>740 rows × 5 columns</p>\n",
       "</div>"
      ],
      "text/plain": [
       "     pm25  pm10    o3   no2  so2\n",
       "0    16.0   9.0  25.0  10.0  0.0\n",
       "1    21.0  25.0  11.0  26.0  1.0\n",
       "2    65.0  20.0  20.0  18.0  1.0\n",
       "3    56.0  15.0  25.0   7.0  0.0\n",
       "4    46.0   0.0  30.0   2.0  0.0\n",
       "..    ...   ...   ...   ...  ...\n",
       "791   0.0   0.0  38.0  15.0  1.0\n",
       "792   0.0   0.0  22.0  20.0  1.0\n",
       "793   0.0   0.0  11.0  20.0  2.0\n",
       "794   0.0   0.0  27.0  14.0  1.0\n",
       "795   0.0   0.0  22.0   9.0  1.0\n",
       "\n",
       "[740 rows x 5 columns]"
      ]
     },
     "execution_count": 63,
     "metadata": {
      "tags": []
     },
     "output_type": "execute_result"
    }
   ],
   "source": [
    "data"
   ]
  },
  {
   "cell_type": "code",
   "execution_count": 0,
   "metadata": {
    "colab": {},
    "colab_type": "code",
    "id": "5OK4Stuqfuc3"
   },
   "outputs": [],
   "source": [
    "samples=coord_dat.sample(len(data))"
   ]
  },
  {
   "cell_type": "code",
   "execution_count": 0,
   "metadata": {
    "colab": {},
    "colab_type": "code",
    "id": "OSAI_n_CfwRG"
   },
   "outputs": [],
   "source": [
    "samples.reset_index(inplace=True)\n",
    "data.reset_index(inplace=True)\n",
    "del samples['index']\n",
    "del data['index']\n",
    "new_dat = pd.concat([data,samples],axis=1,ignore_index=True)"
   ]
  },
  {
   "cell_type": "code",
   "execution_count": 0,
   "metadata": {
    "colab": {},
    "colab_type": "code",
    "id": "loG-ILkmlgOl"
   },
   "outputs": [],
   "source": [
    "del new_dat[0]\n",
    "new_dat = new_dat.rename(columns={1: 'pm25',2:'pm10',3:'o3',4:'no2',5:'so2',6:'latitudes',7:'longitudes'})"
   ]
  },
  {
   "cell_type": "code",
   "execution_count": 0,
   "metadata": {
    "colab": {
     "base_uri": "https://localhost:8080/",
     "height": 419
    },
    "colab_type": "code",
    "id": "MsxF_-PI3xsW",
    "outputId": "4c378a30-1510-48cb-d038-073e14526e39"
   },
   "outputs": [
    {
     "data": {
      "text/html": [
       "<div>\n",
       "<style scoped>\n",
       "    .dataframe tbody tr th:only-of-type {\n",
       "        vertical-align: middle;\n",
       "    }\n",
       "\n",
       "    .dataframe tbody tr th {\n",
       "        vertical-align: top;\n",
       "    }\n",
       "\n",
       "    .dataframe thead th {\n",
       "        text-align: right;\n",
       "    }\n",
       "</style>\n",
       "<table border=\"1\" class=\"dataframe\">\n",
       "  <thead>\n",
       "    <tr style=\"text-align: right;\">\n",
       "      <th></th>\n",
       "      <th>pm25</th>\n",
       "      <th>pm10</th>\n",
       "      <th>o3</th>\n",
       "      <th>no2</th>\n",
       "      <th>so2</th>\n",
       "      <th>latitudes</th>\n",
       "      <th>longitudes</th>\n",
       "    </tr>\n",
       "  </thead>\n",
       "  <tbody>\n",
       "    <tr>\n",
       "      <th>0</th>\n",
       "      <td>16.0</td>\n",
       "      <td>9.0</td>\n",
       "      <td>25.0</td>\n",
       "      <td>10.0</td>\n",
       "      <td>0.0</td>\n",
       "      <td>53.38263694</td>\n",
       "      <td>-6.206181111</td>\n",
       "    </tr>\n",
       "    <tr>\n",
       "      <th>1</th>\n",
       "      <td>21.0</td>\n",
       "      <td>25.0</td>\n",
       "      <td>11.0</td>\n",
       "      <td>26.0</td>\n",
       "      <td>1.0</td>\n",
       "      <td>53.39742611</td>\n",
       "      <td>-6.306615</td>\n",
       "    </tr>\n",
       "    <tr>\n",
       "      <th>2</th>\n",
       "      <td>65.0</td>\n",
       "      <td>20.0</td>\n",
       "      <td>20.0</td>\n",
       "      <td>18.0</td>\n",
       "      <td>1.0</td>\n",
       "      <td>53.28636194</td>\n",
       "      <td>-6.165993889</td>\n",
       "    </tr>\n",
       "    <tr>\n",
       "      <th>3</th>\n",
       "      <td>56.0</td>\n",
       "      <td>15.0</td>\n",
       "      <td>25.0</td>\n",
       "      <td>7.0</td>\n",
       "      <td>0.0</td>\n",
       "      <td>53.39699611</td>\n",
       "      <td>-6.234923889</td>\n",
       "    </tr>\n",
       "    <tr>\n",
       "      <th>4</th>\n",
       "      <td>46.0</td>\n",
       "      <td>0.0</td>\n",
       "      <td>30.0</td>\n",
       "      <td>2.0</td>\n",
       "      <td>0.0</td>\n",
       "      <td>53.34675667</td>\n",
       "      <td>-6.379660278</td>\n",
       "    </tr>\n",
       "    <tr>\n",
       "      <th>...</th>\n",
       "      <td>...</td>\n",
       "      <td>...</td>\n",
       "      <td>...</td>\n",
       "      <td>...</td>\n",
       "      <td>...</td>\n",
       "      <td>...</td>\n",
       "      <td>...</td>\n",
       "    </tr>\n",
       "    <tr>\n",
       "      <th>735</th>\n",
       "      <td>0.0</td>\n",
       "      <td>0.0</td>\n",
       "      <td>38.0</td>\n",
       "      <td>15.0</td>\n",
       "      <td>1.0</td>\n",
       "      <td>53.39714139</td>\n",
       "      <td>-6.341581111</td>\n",
       "    </tr>\n",
       "    <tr>\n",
       "      <th>736</th>\n",
       "      <td>0.0</td>\n",
       "      <td>0.0</td>\n",
       "      <td>22.0</td>\n",
       "      <td>20.0</td>\n",
       "      <td>1.0</td>\n",
       "      <td>53.52341417</td>\n",
       "      <td>-6.091180833</td>\n",
       "    </tr>\n",
       "    <tr>\n",
       "      <th>737</th>\n",
       "      <td>0.0</td>\n",
       "      <td>0.0</td>\n",
       "      <td>11.0</td>\n",
       "      <td>20.0</td>\n",
       "      <td>2.0</td>\n",
       "      <td>53.39722111</td>\n",
       "      <td>-6.310738056</td>\n",
       "    </tr>\n",
       "    <tr>\n",
       "      <th>738</th>\n",
       "      <td>0.0</td>\n",
       "      <td>0.0</td>\n",
       "      <td>27.0</td>\n",
       "      <td>14.0</td>\n",
       "      <td>1.0</td>\n",
       "      <td>53.33851306</td>\n",
       "      <td>-6.255003889</td>\n",
       "    </tr>\n",
       "    <tr>\n",
       "      <th>739</th>\n",
       "      <td>0.0</td>\n",
       "      <td>0.0</td>\n",
       "      <td>22.0</td>\n",
       "      <td>9.0</td>\n",
       "      <td>1.0</td>\n",
       "      <td>53.28907694</td>\n",
       "      <td>-6.145040833</td>\n",
       "    </tr>\n",
       "  </tbody>\n",
       "</table>\n",
       "<p>740 rows × 7 columns</p>\n",
       "</div>"
      ],
      "text/plain": [
       "     pm25  pm10    o3   no2  so2    latitudes    longitudes\n",
       "0    16.0   9.0  25.0  10.0  0.0  53.38263694  -6.206181111\n",
       "1    21.0  25.0  11.0  26.0  1.0  53.39742611     -6.306615\n",
       "2    65.0  20.0  20.0  18.0  1.0  53.28636194  -6.165993889\n",
       "3    56.0  15.0  25.0   7.0  0.0  53.39699611  -6.234923889\n",
       "4    46.0   0.0  30.0   2.0  0.0  53.34675667  -6.379660278\n",
       "..    ...   ...   ...   ...  ...          ...           ...\n",
       "735   0.0   0.0  38.0  15.0  1.0  53.39714139  -6.341581111\n",
       "736   0.0   0.0  22.0  20.0  1.0  53.52341417  -6.091180833\n",
       "737   0.0   0.0  11.0  20.0  2.0  53.39722111  -6.310738056\n",
       "738   0.0   0.0  27.0  14.0  1.0  53.33851306  -6.255003889\n",
       "739   0.0   0.0  22.0   9.0  1.0  53.28907694  -6.145040833\n",
       "\n",
       "[740 rows x 7 columns]"
      ]
     },
     "execution_count": 86,
     "metadata": {
      "tags": []
     },
     "output_type": "execute_result"
    }
   ],
   "source": [
    "new_dat"
   ]
  },
  {
   "cell_type": "code",
   "execution_count": 0,
   "metadata": {
    "colab": {
     "base_uri": "https://localhost:8080/",
     "height": 34
    },
    "colab_type": "code",
    "id": "jyuuk1RV6cni",
    "outputId": "55b44230-953a-4644-89c3-8d7eba0b8028"
   },
   "outputs": [
    {
     "data": {
      "text/plain": [
       "11.0"
      ]
     },
     "execution_count": 88,
     "metadata": {
      "tags": []
     },
     "output_type": "execute_result"
    }
   ],
   "source": [
    "new_dat['o3'][1]"
   ]
  },
  {
   "cell_type": "code",
   "execution_count": 0,
   "metadata": {
    "colab": {},
    "colab_type": "code",
    "id": "fp-xd6H95Eh4"
   },
   "outputs": [],
   "source": [
    "def calc_weight_avg(i,dat):\n",
    "  weighted_avg = dat['o3'][i]*0.3+dat['no2'][i]*0.15+dat['so2'][i]*0.15+dat['pm25'][i]*0.2+dat['pm10'][i]*0.2\n",
    "  return weighted_avg\n",
    "\n",
    "wavg=[]\n",
    "for i in range(len(new_dat)):\n",
    "  wavg.append(calc_weight_avg(i,new_dat))\n",
    "\n",
    "minv=min(wavg)\n",
    "maxv=max(wavg)\n",
    "\n",
    "for i in range(len(wavg)):\n",
    "  wavg[i]=round((wavg[i]-minv)/(maxv-minv),3)\n",
    "\n",
    "wavg=pd.Series(wavg)\n",
    "test=pd.concat([new_dat,wavg],axis=1)\n",
    "test=test.rename(columns={0:'weightpoll'})\n",
    "\n",
    "del test['pm25']\n",
    "del test['pm10']\n",
    "del test['o3']\n",
    "del test['no2']\n",
    "del test['so2']"
   ]
  },
  {
   "cell_type": "code",
   "execution_count": 0,
   "metadata": {
    "colab": {
     "base_uri": "https://localhost:8080/",
     "height": 419
    },
    "colab_type": "code",
    "id": "DiL8EHHq7O2k",
    "outputId": "0f50dbcc-d6c2-4006-ec66-f4029ea8ae41"
   },
   "outputs": [
    {
     "data": {
      "text/html": [
       "<div>\n",
       "<style scoped>\n",
       "    .dataframe tbody tr th:only-of-type {\n",
       "        vertical-align: middle;\n",
       "    }\n",
       "\n",
       "    .dataframe tbody tr th {\n",
       "        vertical-align: top;\n",
       "    }\n",
       "\n",
       "    .dataframe thead th {\n",
       "        text-align: right;\n",
       "    }\n",
       "</style>\n",
       "<table border=\"1\" class=\"dataframe\">\n",
       "  <thead>\n",
       "    <tr style=\"text-align: right;\">\n",
       "      <th></th>\n",
       "      <th>latitudes</th>\n",
       "      <th>longitudes</th>\n",
       "      <th>weightpoll</th>\n",
       "    </tr>\n",
       "  </thead>\n",
       "  <tbody>\n",
       "    <tr>\n",
       "      <th>0</th>\n",
       "      <td>53.38263694</td>\n",
       "      <td>-6.206181111</td>\n",
       "      <td>0.225</td>\n",
       "    </tr>\n",
       "    <tr>\n",
       "      <th>1</th>\n",
       "      <td>53.39742611</td>\n",
       "      <td>-6.306615</td>\n",
       "      <td>0.281</td>\n",
       "    </tr>\n",
       "    <tr>\n",
       "      <th>2</th>\n",
       "      <td>53.28636194</td>\n",
       "      <td>-6.165993889</td>\n",
       "      <td>0.485</td>\n",
       "    </tr>\n",
       "    <tr>\n",
       "      <th>3</th>\n",
       "      <td>53.39699611</td>\n",
       "      <td>-6.234923889</td>\n",
       "      <td>0.417</td>\n",
       "    </tr>\n",
       "    <tr>\n",
       "      <th>4</th>\n",
       "      <td>53.34675667</td>\n",
       "      <td>-6.379660278</td>\n",
       "      <td>0.323</td>\n",
       "    </tr>\n",
       "    <tr>\n",
       "      <th>...</th>\n",
       "      <td>...</td>\n",
       "      <td>...</td>\n",
       "      <td>...</td>\n",
       "    </tr>\n",
       "    <tr>\n",
       "      <th>735</th>\n",
       "      <td>53.39714139</td>\n",
       "      <td>-6.341581111</td>\n",
       "      <td>0.220</td>\n",
       "    </tr>\n",
       "    <tr>\n",
       "      <th>736</th>\n",
       "      <td>53.52341417</td>\n",
       "      <td>-6.091180833</td>\n",
       "      <td>0.132</td>\n",
       "    </tr>\n",
       "    <tr>\n",
       "      <th>737</th>\n",
       "      <td>53.39722111</td>\n",
       "      <td>-6.310738056</td>\n",
       "      <td>0.062</td>\n",
       "    </tr>\n",
       "    <tr>\n",
       "      <th>738</th>\n",
       "      <td>53.33851306</td>\n",
       "      <td>-6.255003889</td>\n",
       "      <td>0.145</td>\n",
       "    </tr>\n",
       "    <tr>\n",
       "      <th>739</th>\n",
       "      <td>53.28907694</td>\n",
       "      <td>-6.145040833</td>\n",
       "      <td>0.095</td>\n",
       "    </tr>\n",
       "  </tbody>\n",
       "</table>\n",
       "<p>740 rows × 3 columns</p>\n",
       "</div>"
      ],
      "text/plain": [
       "       latitudes    longitudes  weightpoll\n",
       "0    53.38263694  -6.206181111       0.225\n",
       "1    53.39742611     -6.306615       0.281\n",
       "2    53.28636194  -6.165993889       0.485\n",
       "3    53.39699611  -6.234923889       0.417\n",
       "4    53.34675667  -6.379660278       0.323\n",
       "..           ...           ...         ...\n",
       "735  53.39714139  -6.341581111       0.220\n",
       "736  53.52341417  -6.091180833       0.132\n",
       "737  53.39722111  -6.310738056       0.062\n",
       "738  53.33851306  -6.255003889       0.145\n",
       "739  53.28907694  -6.145040833       0.095\n",
       "\n",
       "[740 rows x 3 columns]"
      ]
     },
     "execution_count": 143,
     "metadata": {
      "tags": []
     },
     "output_type": "execute_result"
    }
   ],
   "source": [
    "test"
   ]
  },
  {
   "cell_type": "code",
   "execution_count": 0,
   "metadata": {
    "colab": {},
    "colab_type": "code",
    "id": "UrSaKJgk-95n"
   },
   "outputs": [],
   "source": [
    "y=test['weightpoll']\n",
    "del test['weightpoll']"
   ]
  },
  {
   "cell_type": "code",
   "execution_count": 0,
   "metadata": {
    "colab": {
     "base_uri": "https://localhost:8080/",
     "height": 419
    },
    "colab_type": "code",
    "id": "qKwNkzY3_Bs0",
    "outputId": "90d296a7-6a96-4494-bfb4-b757c2616d1d"
   },
   "outputs": [
    {
     "data": {
      "text/html": [
       "<div>\n",
       "<style scoped>\n",
       "    .dataframe tbody tr th:only-of-type {\n",
       "        vertical-align: middle;\n",
       "    }\n",
       "\n",
       "    .dataframe tbody tr th {\n",
       "        vertical-align: top;\n",
       "    }\n",
       "\n",
       "    .dataframe thead th {\n",
       "        text-align: right;\n",
       "    }\n",
       "</style>\n",
       "<table border=\"1\" class=\"dataframe\">\n",
       "  <thead>\n",
       "    <tr style=\"text-align: right;\">\n",
       "      <th></th>\n",
       "      <th>latitudes</th>\n",
       "      <th>longitudes</th>\n",
       "    </tr>\n",
       "  </thead>\n",
       "  <tbody>\n",
       "    <tr>\n",
       "      <th>0</th>\n",
       "      <td>53.38263694</td>\n",
       "      <td>-6.206181111</td>\n",
       "    </tr>\n",
       "    <tr>\n",
       "      <th>1</th>\n",
       "      <td>53.39742611</td>\n",
       "      <td>-6.306615</td>\n",
       "    </tr>\n",
       "    <tr>\n",
       "      <th>2</th>\n",
       "      <td>53.28636194</td>\n",
       "      <td>-6.165993889</td>\n",
       "    </tr>\n",
       "    <tr>\n",
       "      <th>3</th>\n",
       "      <td>53.39699611</td>\n",
       "      <td>-6.234923889</td>\n",
       "    </tr>\n",
       "    <tr>\n",
       "      <th>4</th>\n",
       "      <td>53.34675667</td>\n",
       "      <td>-6.379660278</td>\n",
       "    </tr>\n",
       "    <tr>\n",
       "      <th>...</th>\n",
       "      <td>...</td>\n",
       "      <td>...</td>\n",
       "    </tr>\n",
       "    <tr>\n",
       "      <th>735</th>\n",
       "      <td>53.39714139</td>\n",
       "      <td>-6.341581111</td>\n",
       "    </tr>\n",
       "    <tr>\n",
       "      <th>736</th>\n",
       "      <td>53.52341417</td>\n",
       "      <td>-6.091180833</td>\n",
       "    </tr>\n",
       "    <tr>\n",
       "      <th>737</th>\n",
       "      <td>53.39722111</td>\n",
       "      <td>-6.310738056</td>\n",
       "    </tr>\n",
       "    <tr>\n",
       "      <th>738</th>\n",
       "      <td>53.33851306</td>\n",
       "      <td>-6.255003889</td>\n",
       "    </tr>\n",
       "    <tr>\n",
       "      <th>739</th>\n",
       "      <td>53.28907694</td>\n",
       "      <td>-6.145040833</td>\n",
       "    </tr>\n",
       "  </tbody>\n",
       "</table>\n",
       "<p>740 rows × 2 columns</p>\n",
       "</div>"
      ],
      "text/plain": [
       "       latitudes    longitudes\n",
       "0    53.38263694  -6.206181111\n",
       "1    53.39742611     -6.306615\n",
       "2    53.28636194  -6.165993889\n",
       "3    53.39699611  -6.234923889\n",
       "4    53.34675667  -6.379660278\n",
       "..           ...           ...\n",
       "735  53.39714139  -6.341581111\n",
       "736  53.52341417  -6.091180833\n",
       "737  53.39722111  -6.310738056\n",
       "738  53.33851306  -6.255003889\n",
       "739  53.28907694  -6.145040833\n",
       "\n",
       "[740 rows x 2 columns]"
      ]
     },
     "execution_count": 145,
     "metadata": {
      "tags": []
     },
     "output_type": "execute_result"
    }
   ],
   "source": [
    "test"
   ]
  },
  {
   "cell_type": "code",
   "execution_count": 0,
   "metadata": {
    "colab": {
     "base_uri": "https://localhost:8080/",
     "height": 1000
    },
    "colab_type": "code",
    "id": "JssW5Izl7Pps",
    "outputId": "8a937671-1614-4006-fe2b-077fbdcd6a3d"
   },
   "outputs": [
    {
     "name": "stdout",
     "output_type": "stream",
     "text": [
      "2 2 0.4795932310722645\n",
      "2 3 0.4795932310722645\n",
      "2 4 0.4795932310722645\n",
      "2 5 0.4795932310722645\n",
      "2 6 0.4795932310722645\n",
      "2 7 0.4795932310722645\n",
      "2 8 0.4795932310722645\n",
      "2 9 0.4795932310722645\n",
      "2 10 0.4795932310722645\n",
      "2 11 0.4795932310722645\n",
      "2 12 0.4795932310722645\n",
      "3 2 0.307010158711088\n",
      "3 3 0.307010158711088\n",
      "3 4 0.307010158711088\n",
      "3 5 0.307010158711088\n",
      "3 6 0.307010158711088\n",
      "3 7 0.307010158711088\n",
      "3 8 0.307010158711088\n",
      "3 9 0.307010158711088\n",
      "3 10 0.307010158711088\n",
      "3 11 0.307010158711088\n",
      "3 12 0.307010158711088\n",
      "4 2 0.23571238191477883\n",
      "4 3 0.23571238191477883\n",
      "4 4 0.23571238191477883\n",
      "4 5 0.23571238191477883\n",
      "4 6 0.23571238191477883\n",
      "4 7 0.23571238191477883\n",
      "4 8 0.23571238191477883\n",
      "4 9 0.23571238191477883\n",
      "4 10 0.23571238191477883\n",
      "4 11 0.23571238191477883\n",
      "4 12 0.23571238191477883\n",
      "5 2 0.18906694696399645\n",
      "5 3 0.18906694696399645\n",
      "5 4 0.18906694696399645\n",
      "5 5 0.18906694696399645\n",
      "5 6 0.18906694696399645\n",
      "5 7 0.18906694696399645\n",
      "5 8 0.18906694696399645\n",
      "5 9 0.18906694696399645\n",
      "5 10 0.18906694696399645\n",
      "5 11 0.18906694696399645\n",
      "5 12 0.18906694696399645\n",
      "6 2 0.1556851076726469\n",
      "6 3 0.1556851076726469\n",
      "6 4 0.1556851076726469\n",
      "6 5 0.1556851076726469\n",
      "6 6 0.1556851076726469\n",
      "6 7 0.1556851076726469\n",
      "6 8 0.1556851076726469\n",
      "6 9 0.1556851076726469\n",
      "6 10 0.1556851076726469\n",
      "6 11 0.1556851076726469\n",
      "6 12 0.1556851076726469\n",
      "7 2 0.13911201652284735\n",
      "7 3 0.13911201652284735\n",
      "7 4 0.13911201652284735\n",
      "7 5 0.13911201652284735\n",
      "7 6 0.13911201652284735\n",
      "7 7 0.13911201652284735\n",
      "7 8 0.13911201652284735\n",
      "7 9 0.13911201652284735\n",
      "7 10 0.13911201652284735\n",
      "7 11 0.13911201652284735\n",
      "7 12 0.13911201652284735\n",
      "8 2 0.12854850533159773\n",
      "8 3 0.12854850533159773\n",
      "8 4 0.12854850533159773\n",
      "8 5 0.12854850533159773\n",
      "8 6 0.12854850533159773\n",
      "8 7 0.12854850533159773\n",
      "8 8 0.12854850533159773\n",
      "8 9 0.12854850533159773\n",
      "8 10 0.12854850533159773\n",
      "8 11 0.12854850533159773\n",
      "8 12 0.12854850533159773\n",
      "9 2 0.11536698336052173\n",
      "9 3 0.11536698336052173\n",
      "9 4 0.11536698336052173\n",
      "9 5 0.11536698336052173\n",
      "9 6 0.11536698336052173\n",
      "9 7 0.11536698336052173\n",
      "9 8 0.11536698336052173\n",
      "9 9 0.11536698336052173\n",
      "9 10 0.11536698336052173\n",
      "9 11 0.11536698336052173\n",
      "9 12 0.11536698336052173\n",
      "10 2 0.10377508642575328\n",
      "10 3 0.10377508642575328\n",
      "10 4 0.10377508642575328\n",
      "10 5 0.10377508642575328\n",
      "10 6 0.10377508642575328\n",
      "10 7 0.10377508642575328\n",
      "10 8 0.10377508642575328\n",
      "10 9 0.10377508642575328\n",
      "10 10 0.10377508642575328\n",
      "10 11 0.10377508642575328\n",
      "10 12 0.10377508642575328\n",
      "11 2 0.0901623427697777\n",
      "11 3 0.0901623427697777\n",
      "11 4 0.0901623427697777\n",
      "11 5 0.0901623427697777\n",
      "11 6 0.0901623427697777\n",
      "11 7 0.0901623427697777\n",
      "11 8 0.0901623427697777\n",
      "11 9 0.0901623427697777\n",
      "11 10 0.0901623427697777\n",
      "11 11 0.0901623427697777\n",
      "11 12 0.0901623427697777\n",
      "12 2 0.08349601530820801\n",
      "12 3 0.08349601530820801\n",
      "12 4 0.08349601530820801\n",
      "12 5 0.08349601530820801\n",
      "12 6 0.08349601530820801\n",
      "12 7 0.08349601530820801\n",
      "12 8 0.08349601530820801\n",
      "12 9 0.08349601530820801\n",
      "12 10 0.08349601530820801\n",
      "12 11 0.08349601530820801\n",
      "12 12 0.08349601530820801\n",
      "13 2 0.07205434819680898\n",
      "13 3 0.07205434819680898\n",
      "13 4 0.07205434819680898\n",
      "13 5 0.07205434819680898\n",
      "13 6 0.07205434819680898\n",
      "13 7 0.07205434819680898\n",
      "13 8 0.07205434819680898\n",
      "13 9 0.07205434819680898\n",
      "13 10 0.07205434819680898\n",
      "13 11 0.07205434819680898\n",
      "13 12 0.07205434819680898\n",
      "14 2 0.06561142629254657\n",
      "14 3 0.06561142629254657\n",
      "14 4 0.06561142629254657\n",
      "14 5 0.06561142629254657\n",
      "14 6 0.06561142629254657\n",
      "14 7 0.06561142629254657\n",
      "14 8 0.06561142629254657\n",
      "14 9 0.06561142629254657\n",
      "14 10 0.06561142629254657\n",
      "14 11 0.06561142629254657\n",
      "14 12 0.06561142629254657\n",
      "15 2 0.06072183344275719\n",
      "15 3 0.06072183344275719\n",
      "15 4 0.06072183344275719\n",
      "15 5 0.06072183344275719\n",
      "15 6 0.06072183344275719\n",
      "15 7 0.06072183344275719\n",
      "15 8 0.06072183344275719\n",
      "15 9 0.06072183344275719\n",
      "15 10 0.06072183344275719\n",
      "15 11 0.06072183344275719\n",
      "15 12 0.06072183344275719\n",
      "16 2 0.058463746450333656\n",
      "16 3 0.058463746450333656\n",
      "16 4 0.058463746450333656\n",
      "16 5 0.058463746450333656\n",
      "16 6 0.058463746450333656\n",
      "16 7 0.058463746450333656\n",
      "16 8 0.058463746450333656\n",
      "16 9 0.058463746450333656\n",
      "16 10 0.058463746450333656\n",
      "16 11 0.058463746450333656\n",
      "16 12 0.058463746450333656\n",
      "17 2 0.05343594419034856\n",
      "17 3 0.05343594419034856\n",
      "17 4 0.05343594419034856\n",
      "17 5 0.05343594419034856\n",
      "17 6 0.05343594419034856\n",
      "17 7 0.05343594419034856\n",
      "17 8 0.05343594419034856\n",
      "17 9 0.05343594419034856\n",
      "17 10 0.05343594419034856\n",
      "17 11 0.05343594419034856\n",
      "17 12 0.05343594419034856\n",
      "18 2 0.04705873073378206\n",
      "18 3 0.04705873073378206\n",
      "18 4 0.04705873073378206\n",
      "18 5 0.04705873073378206\n",
      "18 6 0.04705873073378206\n",
      "18 7 0.04705873073378206\n",
      "18 8 0.04705873073378206\n",
      "18 9 0.04705873073378206\n",
      "18 10 0.04705873073378206\n",
      "18 11 0.04705873073378206\n",
      "18 12 0.04705873073378206\n",
      "19 2 0.041664377483248624\n",
      "19 3 0.041664377483248624\n",
      "19 4 0.041664377483248624\n",
      "19 5 0.041664377483248624\n",
      "19 6 0.041664377483248624\n",
      "19 7 0.041664377483248624\n",
      "19 8 0.041664377483248624\n",
      "19 9 0.041664377483248624\n",
      "19 10 0.041664377483248624\n",
      "19 11 0.041664377483248624\n",
      "19 12 0.041664377483248624\n",
      "20 2 0.04316370258684608\n",
      "20 3 0.04316370258684608\n",
      "20 4 0.04316370258684608\n",
      "20 5 0.04316370258684608\n",
      "20 6 0.04316370258684608\n",
      "20 7 0.04316370258684608\n",
      "20 8 0.04316370258684608\n",
      "20 9 0.04316370258684608\n",
      "20 10 0.04316370258684608\n",
      "20 11 0.04316370258684608\n",
      "20 12 0.04316370258684608\n"
     ]
    }
   ],
   "source": [
    "import sklearn\n",
    "from sklearn import neighbors\n",
    "from sklearn.model_selection import KFold\n",
    "from sklearn.model_selection import cross_validate\n",
    "\n",
    "\n",
    "x=test\n",
    "y=y\n",
    "\n",
    "\n",
    "# kf = KFold(4, True, 42)\n",
    "\n",
    "neighbor_list =[2,3,4,5,6,7,8,9,10,11,12,13,14,15,16,17,18,19,20]\n",
    "cv_list=[2,3,4,5,6,7,8,9,10,11,12]\n",
    "\n",
    "for i in neighbor_list:\n",
    "  knr=neighbors.KNeighborsRegressor(i)\n",
    "  for cvv in cv_list:\n",
    "    cv_results = cross_validate(knr,x,y,cv=cvv)\n",
    "    scores=cross_validate(knr,x,y,cv=5,scoring=('r2','neg_mean_squared_error'),return_train_score=True)\n",
    "    print(str(i)+\" \"+str(cvv)+\" \"+str(np.mean(scores['train_r2'])))\n",
    "\n"
   ]
  },
  {
   "cell_type": "code",
   "execution_count": 0,
   "metadata": {
    "colab": {},
    "colab_type": "code",
    "id": "aK8PZK6FGZUn"
   },
   "outputs": [],
   "source": [
    "from sklearn.model_selection import train_test_split\n",
    "knr2=neighbors.KNeighborsRegressor(3)\n",
    "\n",
    "X_train, X_test, y_train, y_test = train_test_split(x, y, test_size=0.2, random_state=42)\n",
    "knr2.fit(X_train,y_train)\n",
    "y_pred = knr2.predict(X_test)"
   ]
  },
  {
   "cell_type": "code",
   "execution_count": 0,
   "metadata": {
    "colab": {
     "base_uri": "https://localhost:8080/",
     "height": 324
    },
    "colab_type": "code",
    "id": "7YPRojtKEOPo",
    "outputId": "06828d0d-3102-4c31-94f6-bab05a1fe8e9"
   },
   "outputs": [
    {
     "ename": "ValueError",
     "evalue": "ignored",
     "output_type": "error",
     "traceback": [
      "\u001b[0;31m---------------------------------------------------------------------------\u001b[0m",
      "\u001b[0;31mValueError\u001b[0m                                Traceback (most recent call last)",
      "\u001b[0;32m<ipython-input-131-db1143bf1167>\u001b[0m in \u001b[0;36m<module>\u001b[0;34m()\u001b[0m\n\u001b[1;32m      1\u001b[0m \u001b[0;32mfrom\u001b[0m \u001b[0msklearn\u001b[0m\u001b[0;34m.\u001b[0m\u001b[0mmetrics\u001b[0m \u001b[0;32mimport\u001b[0m \u001b[0mconfusion_matrix\u001b[0m\u001b[0;34m\u001b[0m\u001b[0;34m\u001b[0m\u001b[0m\n\u001b[0;32m----> 2\u001b[0;31m \u001b[0mconfusion_matrix\u001b[0m\u001b[0;34m(\u001b[0m\u001b[0my_test\u001b[0m\u001b[0;34m,\u001b[0m\u001b[0my_pred\u001b[0m\u001b[0;34m)\u001b[0m\u001b[0;34m\u001b[0m\u001b[0;34m\u001b[0m\u001b[0m\n\u001b[0m",
      "\u001b[0;32m/usr/local/lib/python3.6/dist-packages/sklearn/metrics/_classification.py\u001b[0m in \u001b[0;36mconfusion_matrix\u001b[0;34m(y_true, y_pred, labels, sample_weight, normalize)\u001b[0m\n\u001b[1;32m    266\u001b[0m \u001b[0;34m\u001b[0m\u001b[0m\n\u001b[1;32m    267\u001b[0m     \"\"\"\n\u001b[0;32m--> 268\u001b[0;31m     \u001b[0my_type\u001b[0m\u001b[0;34m,\u001b[0m \u001b[0my_true\u001b[0m\u001b[0;34m,\u001b[0m \u001b[0my_pred\u001b[0m \u001b[0;34m=\u001b[0m \u001b[0m_check_targets\u001b[0m\u001b[0;34m(\u001b[0m\u001b[0my_true\u001b[0m\u001b[0;34m,\u001b[0m \u001b[0my_pred\u001b[0m\u001b[0;34m)\u001b[0m\u001b[0;34m\u001b[0m\u001b[0;34m\u001b[0m\u001b[0m\n\u001b[0m\u001b[1;32m    269\u001b[0m     \u001b[0;32mif\u001b[0m \u001b[0my_type\u001b[0m \u001b[0;32mnot\u001b[0m \u001b[0;32min\u001b[0m \u001b[0;34m(\u001b[0m\u001b[0;34m\"binary\"\u001b[0m\u001b[0;34m,\u001b[0m \u001b[0;34m\"multiclass\"\u001b[0m\u001b[0;34m)\u001b[0m\u001b[0;34m:\u001b[0m\u001b[0;34m\u001b[0m\u001b[0;34m\u001b[0m\u001b[0m\n\u001b[1;32m    270\u001b[0m         \u001b[0;32mraise\u001b[0m \u001b[0mValueError\u001b[0m\u001b[0;34m(\u001b[0m\u001b[0;34m\"%s is not supported\"\u001b[0m \u001b[0;34m%\u001b[0m \u001b[0my_type\u001b[0m\u001b[0;34m)\u001b[0m\u001b[0;34m\u001b[0m\u001b[0;34m\u001b[0m\u001b[0m\n",
      "\u001b[0;32m/usr/local/lib/python3.6/dist-packages/sklearn/metrics/_classification.py\u001b[0m in \u001b[0;36m_check_targets\u001b[0;34m(y_true, y_pred)\u001b[0m\n\u001b[1;32m     95\u001b[0m     \u001b[0;31m# No metrics support \"multiclass-multioutput\" format\u001b[0m\u001b[0;34m\u001b[0m\u001b[0;34m\u001b[0m\u001b[0;34m\u001b[0m\u001b[0m\n\u001b[1;32m     96\u001b[0m     \u001b[0;32mif\u001b[0m \u001b[0;34m(\u001b[0m\u001b[0my_type\u001b[0m \u001b[0;32mnot\u001b[0m \u001b[0;32min\u001b[0m \u001b[0;34m[\u001b[0m\u001b[0;34m\"binary\"\u001b[0m\u001b[0;34m,\u001b[0m \u001b[0;34m\"multiclass\"\u001b[0m\u001b[0;34m,\u001b[0m \u001b[0;34m\"multilabel-indicator\"\u001b[0m\u001b[0;34m]\u001b[0m\u001b[0;34m)\u001b[0m\u001b[0;34m:\u001b[0m\u001b[0;34m\u001b[0m\u001b[0;34m\u001b[0m\u001b[0m\n\u001b[0;32m---> 97\u001b[0;31m         \u001b[0;32mraise\u001b[0m \u001b[0mValueError\u001b[0m\u001b[0;34m(\u001b[0m\u001b[0;34m\"{0} is not supported\"\u001b[0m\u001b[0;34m.\u001b[0m\u001b[0mformat\u001b[0m\u001b[0;34m(\u001b[0m\u001b[0my_type\u001b[0m\u001b[0;34m)\u001b[0m\u001b[0;34m)\u001b[0m\u001b[0;34m\u001b[0m\u001b[0;34m\u001b[0m\u001b[0m\n\u001b[0m\u001b[1;32m     98\u001b[0m \u001b[0;34m\u001b[0m\u001b[0m\n\u001b[1;32m     99\u001b[0m     \u001b[0;32mif\u001b[0m \u001b[0my_type\u001b[0m \u001b[0;32min\u001b[0m \u001b[0;34m[\u001b[0m\u001b[0;34m\"binary\"\u001b[0m\u001b[0;34m,\u001b[0m \u001b[0;34m\"multiclass\"\u001b[0m\u001b[0;34m]\u001b[0m\u001b[0;34m:\u001b[0m\u001b[0;34m\u001b[0m\u001b[0;34m\u001b[0m\u001b[0m\n",
      "\u001b[0;31mValueError\u001b[0m: continuous is not supported"
     ]
    }
   ],
   "source": [
    "from sklearn.metrics import confusion_matrix\n",
    "confusion_matrix(y_test,y_pred)"
   ]
  },
  {
   "cell_type": "code",
   "execution_count": 0,
   "metadata": {
    "colab": {
     "base_uri": "https://localhost:8080/",
     "height": 221
    },
    "colab_type": "code",
    "id": "L4CCCoujGwa0",
    "outputId": "3063bf40-f043-4614-9d6a-5fdbe7a5a4ac"
   },
   "outputs": [
    {
     "data": {
      "text/plain": [
       "120    0.121\n",
       "416    0.148\n",
       "334    0.227\n",
       "350    0.259\n",
       "412    0.231\n",
       "       ...  \n",
       "69     0.283\n",
       "368    0.297\n",
       "131    0.249\n",
       "44     0.231\n",
       "70     0.333\n",
       "Name: weightpoll, Length: 148, dtype: float64"
      ]
     },
     "execution_count": 132,
     "metadata": {
      "tags": []
     },
     "output_type": "execute_result"
    }
   ],
   "source": [
    "y_test"
   ]
  },
  {
   "cell_type": "code",
   "execution_count": 0,
   "metadata": {
    "colab": {
     "base_uri": "https://localhost:8080/",
     "height": 527
    },
    "colab_type": "code",
    "id": "bD_zC5rWGyEb",
    "outputId": "a7a2a2c1-d1b5-4aaa-b982-c2730462d3d6"
   },
   "outputs": [
    {
     "data": {
      "text/plain": [
       "array([0.201     , 0.43466667, 0.262     , 0.19666667, 0.43466667,\n",
       "       0.247     , 0.38833333, 0.337     , 0.37966667, 0.27833333,\n",
       "       0.19466667, 0.17666667, 0.193     , 0.24666667, 0.10866667,\n",
       "       0.198     , 0.23266667, 0.29333333, 0.22233333, 0.19633333,\n",
       "       0.22366667, 0.24      , 0.333     , 0.32733333, 0.205     ,\n",
       "       0.11166667, 0.26666667, 0.254     , 0.29366667, 0.17566667,\n",
       "       0.174     , 0.10266667, 0.267     , 0.30066667, 0.318     ,\n",
       "       0.317     , 0.292     , 0.16833333, 0.22433333, 0.43266667,\n",
       "       0.209     , 0.25433333, 0.23833333, 0.29366667, 0.21366667,\n",
       "       0.261     , 0.24833333, 0.30533333, 0.171     , 0.407     ,\n",
       "       0.20166667, 0.30866667, 0.30633333, 0.22366667, 0.489     ,\n",
       "       0.209     , 0.20866667, 0.337     , 0.22733333, 0.31966667,\n",
       "       0.36666667, 0.53133333, 0.278     , 0.291     , 0.21966667,\n",
       "       0.11966667, 0.39233333, 0.21266667, 0.18633333, 0.397     ,\n",
       "       0.22633333, 0.22166667, 0.292     , 0.34633333, 0.204     ,\n",
       "       0.29133333, 0.229     , 0.22566667, 0.28366667, 0.26166667,\n",
       "       0.181     , 0.20666667, 0.24733333, 0.20566667, 0.12933333,\n",
       "       0.286     , 0.30333333, 0.42566667, 0.35066667, 0.384     ,\n",
       "       0.20666667, 0.22566667, 0.324     , 0.26366667, 0.23966667,\n",
       "       0.27733333, 0.256     , 0.27033333, 0.23333333, 0.27366667,\n",
       "       0.28666667, 0.239     , 0.306     , 0.41133333, 0.232     ,\n",
       "       0.193     , 0.234     , 0.19433333, 0.39233333, 0.3       ,\n",
       "       0.35333333, 0.37466667, 0.17733333, 0.209     , 0.215     ,\n",
       "       0.28133333, 0.466     , 0.29133333, 0.304     , 0.35633333,\n",
       "       0.27333333, 0.35966667, 0.11966667, 0.31833333, 0.27433333,\n",
       "       0.31966667, 0.21833333, 0.16233333, 0.218     , 0.27233333,\n",
       "       0.229     , 0.31866667, 0.198     , 0.33      , 0.299     ,\n",
       "       0.234     , 0.204     , 0.277     , 0.26733333, 0.31833333,\n",
       "       0.153     , 0.131     , 0.24166667, 0.35966667, 0.489     ,\n",
       "       0.22166667, 0.13766667, 0.25666667])"
      ]
     },
     "execution_count": 148,
     "metadata": {
      "tags": []
     },
     "output_type": "execute_result"
    }
   ],
   "source": [
    "y_pred"
   ]
  },
  {
   "cell_type": "code",
   "execution_count": 0,
   "metadata": {
    "colab": {
     "base_uri": "https://localhost:8080/",
     "height": 34
    },
    "colab_type": "code",
    "id": "ioQ0-DW0CDF5",
    "outputId": "52f2e283-b630-44b0-d7a7-0a2265e79742"
   },
   "outputs": [
    {
     "data": {
      "text/plain": [
       "0.030007469219219218"
      ]
     },
     "execution_count": 150,
     "metadata": {
      "tags": []
     },
     "output_type": "execute_result"
    }
   ],
   "source": [
    "from sklearn.metrics import mean_squared_error as mse\n",
    "mse(y_test,y_pred)"
   ]
  },
  {
   "cell_type": "code",
   "execution_count": 0,
   "metadata": {
    "colab": {},
    "colab_type": "code",
    "id": "o1xykiqJCRso"
   },
   "outputs": [],
   "source": [
    "import pickle\n",
    "filename = 'pollution_prediction_correct.pkl'\n",
    "pickle.dump(knr2, open(filename, 'wb'))"
   ]
  },
  {
   "cell_type": "code",
   "execution_count": 0,
   "metadata": {
    "colab": {
     "base_uri": "https://localhost:8080/",
     "height": 341
    },
    "colab_type": "code",
    "id": "oTam8IyaIk1E",
    "outputId": "169dc27b-b51b-470b-fc5f-74aca0d5c9a1"
   },
   "outputs": [
    {
     "ename": "ValueError",
     "evalue": "ignored",
     "output_type": "error",
     "traceback": [
      "\u001b[0;31m---------------------------------------------------------------------------\u001b[0m",
      "\u001b[0;31mValueError\u001b[0m                                Traceback (most recent call last)",
      "\u001b[0;32m<ipython-input-159-ff58b28d0cba>\u001b[0m in \u001b[0;36m<module>\u001b[0;34m()\u001b[0m\n\u001b[0;32m----> 1\u001b[0;31m \u001b[0mknr2\u001b[0m\u001b[0;34m.\u001b[0m\u001b[0mpredict\u001b[0m\u001b[0;34m(\u001b[0m\u001b[0;34m[\u001b[0m\u001b[0;36m53.333\u001b[0m\u001b[0;34m,\u001b[0m\u001b[0;34m-\u001b[0m\u001b[0;36m6.433\u001b[0m\u001b[0;34m]\u001b[0m\u001b[0;34m)\u001b[0m\u001b[0;34m\u001b[0m\u001b[0;34m\u001b[0m\u001b[0m\n\u001b[0m",
      "\u001b[0;32m/usr/local/lib/python3.6/dist-packages/sklearn/neighbors/_regression.py\u001b[0m in \u001b[0;36mpredict\u001b[0;34m(self, X)\u001b[0m\n\u001b[1;32m    170\u001b[0m             \u001b[0mTarget\u001b[0m \u001b[0mvalues\u001b[0m\u001b[0;34m\u001b[0m\u001b[0;34m\u001b[0m\u001b[0m\n\u001b[1;32m    171\u001b[0m         \"\"\"\n\u001b[0;32m--> 172\u001b[0;31m         \u001b[0mX\u001b[0m \u001b[0;34m=\u001b[0m \u001b[0mcheck_array\u001b[0m\u001b[0;34m(\u001b[0m\u001b[0mX\u001b[0m\u001b[0;34m,\u001b[0m \u001b[0maccept_sparse\u001b[0m\u001b[0;34m=\u001b[0m\u001b[0;34m'csr'\u001b[0m\u001b[0;34m)\u001b[0m\u001b[0;34m\u001b[0m\u001b[0;34m\u001b[0m\u001b[0m\n\u001b[0m\u001b[1;32m    173\u001b[0m \u001b[0;34m\u001b[0m\u001b[0m\n\u001b[1;32m    174\u001b[0m         \u001b[0mneigh_dist\u001b[0m\u001b[0;34m,\u001b[0m \u001b[0mneigh_ind\u001b[0m \u001b[0;34m=\u001b[0m \u001b[0mself\u001b[0m\u001b[0;34m.\u001b[0m\u001b[0mkneighbors\u001b[0m\u001b[0;34m(\u001b[0m\u001b[0mX\u001b[0m\u001b[0;34m)\u001b[0m\u001b[0;34m\u001b[0m\u001b[0;34m\u001b[0m\u001b[0m\n",
      "\u001b[0;32m/usr/local/lib/python3.6/dist-packages/sklearn/utils/validation.py\u001b[0m in \u001b[0;36mcheck_array\u001b[0;34m(array, accept_sparse, accept_large_sparse, dtype, order, copy, force_all_finite, ensure_2d, allow_nd, ensure_min_samples, ensure_min_features, warn_on_dtype, estimator)\u001b[0m\n\u001b[1;32m    554\u001b[0m                     \u001b[0;34m\"Reshape your data either using array.reshape(-1, 1) if \"\u001b[0m\u001b[0;34m\u001b[0m\u001b[0;34m\u001b[0m\u001b[0m\n\u001b[1;32m    555\u001b[0m                     \u001b[0;34m\"your data has a single feature or array.reshape(1, -1) \"\u001b[0m\u001b[0;34m\u001b[0m\u001b[0;34m\u001b[0m\u001b[0m\n\u001b[0;32m--> 556\u001b[0;31m                     \"if it contains a single sample.\".format(array))\n\u001b[0m\u001b[1;32m    557\u001b[0m \u001b[0;34m\u001b[0m\u001b[0m\n\u001b[1;32m    558\u001b[0m         \u001b[0;31m# in the future np.flexible dtypes will be handled like object dtypes\u001b[0m\u001b[0;34m\u001b[0m\u001b[0;34m\u001b[0m\u001b[0;34m\u001b[0m\u001b[0m\n",
      "\u001b[0;31mValueError\u001b[0m: Expected 2D array, got 1D array instead:\narray=[53.333 -6.433].\nReshape your data either using array.reshape(-1, 1) if your data has a single feature or array.reshape(1, -1) if it contains a single sample."
     ]
    }
   ],
   "source": [
    "knr2.predict([53.333,-6.433])"
   ]
  },
  {
   "cell_type": "code",
   "execution_count": 0,
   "metadata": {
    "colab": {
     "base_uri": "https://localhost:8080/",
     "height": 419
    },
    "colab_type": "code",
    "id": "G1TtrThCMdL8",
    "outputId": "b10ca38d-cbd4-403f-f0b0-ca51cf7b7575"
   },
   "outputs": [
    {
     "data": {
      "text/html": [
       "<div>\n",
       "<style scoped>\n",
       "    .dataframe tbody tr th:only-of-type {\n",
       "        vertical-align: middle;\n",
       "    }\n",
       "\n",
       "    .dataframe tbody tr th {\n",
       "        vertical-align: top;\n",
       "    }\n",
       "\n",
       "    .dataframe thead th {\n",
       "        text-align: right;\n",
       "    }\n",
       "</style>\n",
       "<table border=\"1\" class=\"dataframe\">\n",
       "  <thead>\n",
       "    <tr style=\"text-align: right;\">\n",
       "      <th></th>\n",
       "      <th>latitudes</th>\n",
       "      <th>longitudes</th>\n",
       "    </tr>\n",
       "  </thead>\n",
       "  <tbody>\n",
       "    <tr>\n",
       "      <th>120</th>\n",
       "      <td>53.35754694</td>\n",
       "      <td>-6.42383</td>\n",
       "    </tr>\n",
       "    <tr>\n",
       "      <th>416</th>\n",
       "      <td>53.330885</td>\n",
       "      <td>-6.296511667</td>\n",
       "    </tr>\n",
       "    <tr>\n",
       "      <th>334</th>\n",
       "      <td>53.27914222</td>\n",
       "      <td>-6.137957778</td>\n",
       "    </tr>\n",
       "    <tr>\n",
       "      <th>350</th>\n",
       "      <td>53.37060194</td>\n",
       "      <td>-6.351381944</td>\n",
       "    </tr>\n",
       "    <tr>\n",
       "      <th>412</th>\n",
       "      <td>53.33515</td>\n",
       "      <td>-6.294314722</td>\n",
       "    </tr>\n",
       "    <tr>\n",
       "      <th>...</th>\n",
       "      <td>...</td>\n",
       "      <td>...</td>\n",
       "    </tr>\n",
       "    <tr>\n",
       "      <th>69</th>\n",
       "      <td>53.35263889</td>\n",
       "      <td>-6.232396111</td>\n",
       "    </tr>\n",
       "    <tr>\n",
       "      <th>368</th>\n",
       "      <td>53.29004</td>\n",
       "      <td>-6.199535</td>\n",
       "    </tr>\n",
       "    <tr>\n",
       "      <th>131</th>\n",
       "      <td>53.28235</td>\n",
       "      <td>-6.233566944</td>\n",
       "    </tr>\n",
       "    <tr>\n",
       "      <th>44</th>\n",
       "      <td>53.09586611</td>\n",
       "      <td>-6.513723056</td>\n",
       "    </tr>\n",
       "    <tr>\n",
       "      <th>70</th>\n",
       "      <td>53.37728389</td>\n",
       "      <td>-6.328361111</td>\n",
       "    </tr>\n",
       "  </tbody>\n",
       "</table>\n",
       "<p>148 rows × 2 columns</p>\n",
       "</div>"
      ],
      "text/plain": [
       "       latitudes    longitudes\n",
       "120  53.35754694      -6.42383\n",
       "416    53.330885  -6.296511667\n",
       "334  53.27914222  -6.137957778\n",
       "350  53.37060194  -6.351381944\n",
       "412     53.33515  -6.294314722\n",
       "..           ...           ...\n",
       "69   53.35263889  -6.232396111\n",
       "368     53.29004     -6.199535\n",
       "131     53.28235  -6.233566944\n",
       "44   53.09586611  -6.513723056\n",
       "70   53.37728389  -6.328361111\n",
       "\n",
       "[148 rows x 2 columns]"
      ]
     },
     "execution_count": 162,
     "metadata": {
      "tags": []
     },
     "output_type": "execute_result"
    }
   ],
   "source": [
    "X_test"
   ]
  },
  {
   "cell_type": "code",
   "execution_count": 0,
   "metadata": {
    "colab": {
     "base_uri": "https://localhost:8080/",
     "height": 34
    },
    "colab_type": "code",
    "id": "5bsM5C8bMjB-",
    "outputId": "939ee9ba-df42-4608-ad36-d25e8b42bc5d"
   },
   "outputs": [
    {
     "data": {
      "text/plain": [
       "array([0.256])"
      ]
     },
     "execution_count": 169,
     "metadata": {
      "tags": []
     },
     "output_type": "execute_result"
    }
   ],
   "source": [
    "liss=[[53.28636194,-6.165993889]]\n",
    "knr2.predict(liss)"
   ]
  },
  {
   "cell_type": "code",
   "execution_count": 0,
   "metadata": {
    "colab": {},
    "colab_type": "code",
    "id": "17nWcihxMpDi"
   },
   "outputs": [],
   "source": []
  }
 ],
 "metadata": {
  "colab": {
   "collapsed_sections": [],
   "name": "ASE.ipynb",
   "provenance": [],
   "toc_visible": true
  },
  "kernelspec": {
   "display_name": "Python 3",
   "language": "python",
   "name": "python3"
  },
  "language_info": {
   "codemirror_mode": {
    "name": "ipython",
    "version": 3
   },
   "file_extension": ".py",
   "mimetype": "text/x-python",
   "name": "python",
   "nbconvert_exporter": "python",
   "pygments_lexer": "ipython3",
   "version": "3.7.6"
  }
 },
 "nbformat": 4,
 "nbformat_minor": 1
}
